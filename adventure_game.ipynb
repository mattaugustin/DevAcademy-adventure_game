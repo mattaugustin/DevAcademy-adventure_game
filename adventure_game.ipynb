{
 "cells": [
  {
   "cell_type": "code",
   "execution_count": 3,
   "metadata": {},
   "outputs": [
    {
     "name": "stdout",
     "output_type": "stream",
     "text": [
      "You are in a bedroom. There is a bed, a dresser, and a door to the south.\n",
      "Thanks for playing. Dont forget to call KEvin from the job centre\n"
     ]
    }
   ],
   "source": [
    "rooms = {\n",
    "         'entrance'      : { 'description': 'You are in the house entrance. There is a King Charles III painting, a (stolen) Banksy, a selfie stick, and doors to the north, west and south.', \n",
    "                             'exits'      : {'south' : 'hallway',\n",
    "                                             'north' : \"master_bedroom\",\n",
    "                                             \"east\" : \"garden\" }\n",
    "                            },\n",
    "         'master_bedroom': { 'description': \"You are in a bedroom. There is a bed, a dresser. There's a door to the south.\", \n",
    "                             'exits': {'south': 'hallway'} \n",
    "                            }, \n",
    "         'hallway'       : { 'description': 'You are in a hallway. There are doors to the north, east, and west.' , \n",
    "                            'exits': {'north': 'master_bedroom', \n",
    "                                      'east': 'kitchen', \n",
    "                                      'west': 'bathroom'} \n",
    "                            }, \n",
    "         'kitchen'       : { \n",
    "                            'description': 'You are in a kitchen. There is a stove, a refrigerator, and a door to the west.', \n",
    "                            'exits'      : {'west': 'hallway',\n",
    "                                             \"south\":\"garage\"} \n",
    "                            }, \n",
    "         'bathroom'      : { 'description': 'You are in a bathroom. There is a sink, a toilet, and a door to the east.', \n",
    "                            'exits': {'east': 'hallway'} \n",
    "                            } ,\n",
    "         'garage'        : { \"description\": \"you are in a garage. Theres a new Tesla, a Benz and a Russian Tank. Also a door to the west\",\n",
    "                                'exits': {'west': 'kitchen'},\n",
    "                                \"items\": {\"Russian Tank\": \"\" }\n",
    "         }\n",
    "        }\n",
    "\n",
    "\n",
    "# start the player in the bedroom \n",
    "current_room = 'master_bedroom' \n",
    "\n",
    "# game loop \n",
    "while True: \n",
    "    \n",
    "    # print the description of the current room \n",
    "    print(rooms[current_room]['description'])\n",
    "    \n",
    "    # get the player's input \n",
    "    command = input('What do you want to do? (north/south/east/west)') \n",
    "    \n",
    "    # check if the player wants to go to a different room \n",
    "    if command in ['north', 'south', 'east', 'west']: \n",
    "        \n",
    "        # # check if the desired direction is a valid exit \n",
    "        if command in rooms[current_room]['exits']: \n",
    "            # update the current room \n",
    "            current_room = rooms[current_room]['exits'][command] \n",
    "        \n",
    "        else: \n",
    "            # the desired direction is not a valid exit \n",
    "            print(\"You can't go that way.\") \n",
    "    \n",
    "    #  Make sure the user does not want to call Kevin from job center.\n",
    "    elif command == \"Q\":\n",
    "        print(\"Thanks for playing. Dont forget to call Kevin from the job centre! \")\n",
    "        break \n",
    "    \n",
    "    else: \n",
    "        # the player entered an invalid command \n",
    "        print(\"I don't understand what you want to do.\")\n",
    "        \n",
    "\n"
   ]
  }
 ],
 "metadata": {
  "kernelspec": {
   "display_name": "Python 3.8.7 64-bit",
   "language": "python",
   "name": "python3"
  },
  "language_info": {
   "codemirror_mode": {
    "name": "ipython",
    "version": 3
   },
   "file_extension": ".py",
   "mimetype": "text/x-python",
   "name": "python",
   "nbconvert_exporter": "python",
   "pygments_lexer": "ipython3",
   "version": "3.8.7"
  },
  "orig_nbformat": 4,
  "vscode": {
   "interpreter": {
    "hash": "77b2607cbafbc35ac0854d5129a64c86cc54af7c4f9379edad5ba9cd6b8fde9a"
   }
  }
 },
 "nbformat": 4,
 "nbformat_minor": 2
}
